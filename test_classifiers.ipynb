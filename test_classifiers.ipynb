{
 "cells": [
  {
   "cell_type": "code",
   "execution_count": 16,
   "metadata": {},
   "outputs": [],
   "source": [
    "from dag_cld import env\n",
    "from dag_cld import ast\n",
    "from dag_cld import mask\n",
    "from dag_cld import teacher"
   ]
  },
  {
   "cell_type": "code",
   "execution_count": 17,
   "metadata": {},
   "outputs": [],
   "source": [
    "logger = env.Logger(blabla=False)\n",
    "fop = env.File(logger)\n",
    "\n",
    "pmask = mask.Polar(logger)\n",
    "\n",
    "fts = ast.Fits(logger)\n",
    "\n",
    "ima = ast.Image(logger)\n",
    "\n",
    "svm = teacher.SVM(logger)\n",
    "cnn = teacher.CNN(logger)\n",
    "knn = teacher.KNN(logger)\n",
    "lr = teacher.LR(logger)\n",
    "nb = teacher.NB(logger)"
   ]
  },
  {
   "cell_type": "code",
   "execution_count": 18,
   "metadata": {},
   "outputs": [],
   "source": [
    "number_of_samples = 6\n",
    "mask_coordinates = {\"E\": ((20, 70), (45, 135)), \"S\": ((20, 70), (135, 225)),\n",
    "                    \"W\": ((20, 70), (225, 315)), \"N\": ((20, 70), (315, 405)),\n",
    "                    \"ZE\": ((70, 90), (45, 135)), \"ZS\": ((70, 90), (135, 225)),\n",
    "                    \"ZW\": ((70, 90), (225, 315)), \"ZN\": ((70, 90), (315, 405))}"
   ]
  },
  {
   "cell_type": "code",
   "execution_count": 19,
   "metadata": {},
   "outputs": [],
   "source": [
    "for direction, coordinates in mask_coordinates.items():\n",
    "    sky_files = fop.list_in_path(\"data/clear/*_S_vec.fits.gz\".format(direction))\n",
    "    cld_files = fop.list_in_path(\"data/cloud/*_S_vec.fits.gz\".format(direction))\n",
    "    \n",
    "    random_sky_files = svm.random_choices(sky_files, number_of_samples)\n",
    "    random_cld_files = svm.random_choices(cld_files, number_of_samples)\n",
    "    \n",
    "    random_sky_vectors = []\n",
    "    for random_sky_file in random_sky_files:\n",
    "        vec = fts.data(random_sky_file)\n",
    "        random_sky_vectors.append(vec)\n",
    "\n",
    "    random_sky_vectors = ima.list2array(random_sky_vectors)\n",
    "        \n",
    "    random_cld_vectors = []\n",
    "    for random_cld_file in random_cld_files:\n",
    "        vec = fts.data(random_cld_file)\n",
    "        random_cld_vectors.append(vec)\n",
    "\n",
    "    random_cld_vectors = ima.list2array(random_cld_vectors)\n",
    "    whole_classes = svm.class_combiner(\n",
    "    svm.class_adder(random_sky_vectors, 1),\n",
    "    svm.class_adder(random_cld_vectors, 0))\n",
    "\n",
    "    whole_classes = svm.shuffle(whole_classes)\n",
    "\n",
    "    training, test = svm.tts(whole_classes, test_size=0.20)\n",
    "\n",
    "    X_train, y_train = training[:, :-1], training[:, -1]\n",
    "    X_test, y_test = test[:, :-1], test[:, -1]\n",
    "\n",
    "    clsf = svm.classifier(X_train, y_train)\n",
    "\n",
    "    svm.save(clsf, \"clsf/svm_day_{}.clsf\".format(direction))"
   ]
  },
  {
   "cell_type": "code",
   "execution_count": null,
   "metadata": {},
   "outputs": [],
   "source": []
  }
 ],
 "metadata": {
  "kernelspec": {
   "display_name": "Python 3",
   "language": "python",
   "name": "python3"
  },
  "language_info": {
   "codemirror_mode": {
    "name": "ipython",
    "version": 3
   },
   "file_extension": ".py",
   "mimetype": "text/x-python",
   "name": "python",
   "nbconvert_exporter": "python",
   "pygments_lexer": "ipython3",
   "version": "3.7.5"
  }
 },
 "nbformat": 4,
 "nbformat_minor": 4
}
